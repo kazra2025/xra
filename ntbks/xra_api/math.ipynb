{
 "cells": [
  {
   "cell_type": "code",
   "execution_count": 5,
   "id": "dc967e1f-f6eb-47fa-a2cf-9d732b78964c",
   "metadata": {},
   "outputs": [],
   "source": [
    "import os, io, random\n",
    "import sys\n",
    "import time\n",
    "import json\n",
    "import posixpath\n",
    "from pathlib import Path\n",
    "import subprocess as sp\n",
    "import requests\n",
    "\n",
    "import base64 as b64\n",
    "import struct\n",
    "\n",
    "import hashlib\n",
    "import hmac\n",
    "import enum"
   ]
  },
  {
   "cell_type": "code",
   "execution_count": 2,
   "id": "d2241053-c14f-403b-99fd-f6cd7d9a5a48",
   "metadata": {},
   "outputs": [
    {
     "name": "stdout",
     "output_type": "stream",
     "text": [
      "repo_root_path:   /home/lu/wsl_home/gh_kazra2025/xra\n",
      "search_path_str:  /home/lu/wsl_home/gh_kazra2025/xra/src\n"
     ]
    }
   ],
   "source": [
    "repo_root_path = Path(sp.check_output([\"git\", \"rev-parse\", \"--show-toplevel\"], text=True).strip()).resolve()\n",
    "search_path_str = str(repo_root_path / 'src')\n",
    "\n",
    "print(f\"repo_root_path:   {repo_root_path}\")\n",
    "print(f\"search_path_str:  {search_path_str}\")\n",
    "\n",
    "if search_path_str not in sys.path:\n",
    "    sys.path.append(search_path_str)"
   ]
  },
  {
   "cell_type": "code",
   "execution_count": 3,
   "id": "4c4bf8c7-e506-4b8d-879d-741141a8cb6a",
   "metadata": {},
   "outputs": [],
   "source": [
    "from xra.central_config import dfcc"
   ]
  },
  {
   "cell_type": "code",
   "execution_count": null,
   "id": "b212d49e-e0c7-49ae-bb4f-d4b70a27e8c0",
   "metadata": {},
   "outputs": [],
   "source": []
  },
  {
   "cell_type": "code",
   "execution_count": null,
   "id": "c321f750-7957-41b2-a936-de282cc0ed2e",
   "metadata": {},
   "outputs": [],
   "source": []
  },
  {
   "cell_type": "code",
   "execution_count": 11,
   "id": "3b46607b-ddc9-4320-a46d-ea36589ef0f7",
   "metadata": {},
   "outputs": [
    {
     "data": {
      "text/plain": [
       "'http://127.0.0.1:17480/math/compute'"
      ]
     },
     "execution_count": 11,
     "metadata": {},
     "output_type": "execute_result"
    }
   ],
   "source": [
    "url = f\"http://{dfcc.api_host}:{dfcc.api_port}/math/compute\" \n",
    "url"
   ]
  },
  {
   "cell_type": "code",
   "execution_count": 12,
   "id": "57723d58-c59f-4ee0-a213-a6a971760f2a",
   "metadata": {},
   "outputs": [],
   "source": [
    "req_payload = {\n",
    "    \"a\": 42,\n",
    "    \"b\": 17\n",
    "}\n",
    "api_resp = requests.post(url, json=req_payload)"
   ]
  },
  {
   "cell_type": "code",
   "execution_count": 13,
   "id": "24bb24c2-2d12-4cd2-bdd1-5a2c61467105",
   "metadata": {},
   "outputs": [
    {
     "name": "stdout",
     "output_type": "stream",
     "text": [
      "Status code: 200\n",
      "Response: {'sum': 59, 'product': 714}\n"
     ]
    }
   ],
   "source": [
    "print(\"Status code:\", api_resp.status_code)\n",
    "print(\"Response:\", api_resp.json())"
   ]
  },
  {
   "cell_type": "code",
   "execution_count": null,
   "id": "8fa09ed8-7a35-4591-ab0d-4794442b1dfc",
   "metadata": {},
   "outputs": [],
   "source": []
  },
  {
   "cell_type": "code",
   "execution_count": null,
   "id": "a05f50b9-2c37-457f-ba08-115138ec6efe",
   "metadata": {},
   "outputs": [],
   "source": []
  },
  {
   "cell_type": "code",
   "execution_count": null,
   "id": "5c06abe8-852f-4356-a5cf-f05f025542b6",
   "metadata": {},
   "outputs": [],
   "source": []
  },
  {
   "cell_type": "code",
   "execution_count": null,
   "id": "3f11b5d8-cd0e-4fb6-be80-864ce231650e",
   "metadata": {},
   "outputs": [],
   "source": []
  },
  {
   "cell_type": "code",
   "execution_count": null,
   "id": "5db84388-2e1e-4145-8a15-b92b65165627",
   "metadata": {},
   "outputs": [],
   "source": []
  },
  {
   "cell_type": "code",
   "execution_count": null,
   "id": "c1dab1fb-3385-4679-8190-7e275b02de2b",
   "metadata": {},
   "outputs": [],
   "source": []
  },
  {
   "cell_type": "code",
   "execution_count": null,
   "id": "51594675-c67f-4921-9c68-d779afb68f34",
   "metadata": {},
   "outputs": [],
   "source": []
  },
  {
   "cell_type": "code",
   "execution_count": null,
   "id": "e9832307-44ba-46a4-a17e-43169c5f87ee",
   "metadata": {},
   "outputs": [],
   "source": []
  }
 ],
 "metadata": {
  "kernelspec": {
   "display_name": "Python 3 (ipykernel)",
   "language": "python",
   "name": "python3"
  },
  "language_info": {
   "codemirror_mode": {
    "name": "ipython",
    "version": 3
   },
   "file_extension": ".py",
   "mimetype": "text/x-python",
   "name": "python",
   "nbconvert_exporter": "python",
   "pygments_lexer": "ipython3",
   "version": "3.12.3"
  }
 },
 "nbformat": 4,
 "nbformat_minor": 5
}
